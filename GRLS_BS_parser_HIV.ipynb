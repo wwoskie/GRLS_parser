{
  "nbformat": 4,
  "nbformat_minor": 0,
  "metadata": {
    "colab": {
      "provenance": [],
      "authorship_tag": "ABX9TyOjc7fRiJn5YYO0Av4HzHnt",
      "include_colab_link": true
    },
    "kernelspec": {
      "name": "python3",
      "display_name": "Python 3"
    },
    "language_info": {
      "name": "python"
    }
  },
  "cells": [
    {
      "cell_type": "markdown",
      "metadata": {
        "id": "view-in-github",
        "colab_type": "text"
      },
      "source": [
        "<a href=\"https://colab.research.google.com/github/wwoskie/GRLS_parser/blob/main/GRLS_BS_parser_HIV.ipynb\" target=\"_parent\"><img src=\"https://colab.research.google.com/assets/colab-badge.svg\" alt=\"Open In Colab\"/></a>"
      ]
    },
    {
      "cell_type": "code",
      "execution_count": null,
      "metadata": {
        "id": "DOURfYJb_ymh"
      },
      "outputs": [],
      "source": [
        "import requests\n",
        "import pandas as pd\n",
        "from bs4 import BeautifulSoup\n",
        "from urllib.parse import quote"
      ]
    },
    {
      "cell_type": "code",
      "source": [
        "def url_maker(drug_name, page_number = 1):\n",
        "  url = 'https://grls.rosminzdrav.ru/GRLS.aspx?RegNumber=&MnnR=' + quote(drug_name) + '&lf=&TradeNmR=&OwnerName=&MnfOrg=&MnfOrgCountry=&isfs=0&isND=-1&regtype=&pageSize=10&order=RegDate&orderType=desc&pageNum=' + str(page_number)\n",
        "  return url"
      ],
      "metadata": {
        "id": "MDmFpic6_2X6"
      },
      "execution_count": null,
      "outputs": []
    },
    {
      "cell_type": "code",
      "source": [
        "def soup_checker(r):\n",
        "  soup_check = BeautifulSoup(r.content, 'html5lib')\n",
        "  table_check = soup_check.find('tr', attrs = {'class':'hdr_flat'})\n",
        "  return ('Данные не найдены' in str(table_check))"
      ],
      "metadata": {
        "id": "CPxWTc3_CxS9"
      },
      "execution_count": null,
      "outputs": []
    },
    {
      "cell_type": "code",
      "source": [
        "def comp_counter(comp):\n",
        "  if comp == '-':\n",
        "    out = -1\n",
        "  else:\n",
        "    out = len(comp.split('+'))\n",
        "  return out"
      ],
      "metadata": {
        "id": "3foH7poP3jAK"
      },
      "execution_count": null,
      "outputs": []
    },
    {
      "cell_type": "code",
      "source": [
        "def GRLS_parser(drug_list, table_name = 'GRLS_table.tsv', table_create = True, dct_ret = True):\n",
        "  colnames = ['Текст запроса', '№ п/п', 'Торговое наименование', 'Международное непатентованное наименование или группировочное (химическое) наименование', 'Форма выпуска', 'Наименование держателя или владельца регистрационного удостоверения лекарственного препарата', 'Страна держателя или владельца регистрационного удостоверения лекарственного препарата', 'Регистрационный номер', 'Дата государственной регистрации', 'Дата окончания действ. рег. уд.', 'Дата переоформления РУ', 'Состояние', 'Дата решения']\n",
        "\n",
        "  dct_out = {}\n",
        "\n",
        "  for drug in drug_list:\n",
        "    dct_out[drug] = {}\n",
        "    url = url_maker(drug, page_number = 1)\n",
        "    r = requests.get(url)\n",
        "    soup_check = soup_checker(r)\n",
        "    if not soup_check:\n",
        "      i = 1\n",
        "\n",
        "      while not soup_checker(r):\n",
        "        url = url_maker(drug, page_number = i)\n",
        "        r = requests.get(url)\n",
        "        if soup_checker(r):\n",
        "          continue\n",
        "        soup = BeautifulSoup(r.content, 'html5lib')\n",
        "        table = soup.find('table', attrs = {'class':'ts1 qa-result-table'})\n",
        "\n",
        "        for line in table.findAll('td'):\n",
        "          line = str(line)\n",
        "          row = line.split('>')[1].split('<')[0].strip()\n",
        "          if line.startswith('<td align=\"center\" width=\"1\">'):\n",
        "            key = row\n",
        "            dct_out[drug][key] = [drug, row]\n",
        "          else:\n",
        "            dct_out[drug][key].append(row)\n",
        "\n",
        "        i += 1\n",
        "\n",
        "    else:\n",
        "      dct_out[drug]['-1'] = [drug, '-1', 'Не найдено ни одного препарата'] + ['-']*10\n",
        "\n",
        "  df = pd.DataFrame(columns = colnames)\n",
        "  for drug in dct_out.keys():\n",
        "    for key in dct_out[drug].keys():\n",
        "      df = df.append(pd.Series(dct_out[drug][key], index = colnames), ignore_index = True)\n",
        "\n",
        "  df['Действующих веществ'] = df['Международное непатентованное наименование или группировочное (химическое) наименование'].map(comp_counter)\n",
        "\n",
        "  if table_create:\n",
        "    df.to_csv(table_name, sep = '\\t', index = False)\n",
        "\n",
        "  if dct_ret:\n",
        "    return (df, dct_out)\n",
        "  else:\n",
        "    return df"
      ],
      "metadata": {
        "id": "zcoBZOUpEQQG"
      },
      "execution_count": null,
      "outputs": []
    },
    {
      "cell_type": "markdown",
      "source": [
        "Пример работы на лекарствах от СМА:\n",
        "для бранаплама и релдесемтива ожидаемо ничего не найдено, т.к. они еще слишком экспериментальные\n"
      ],
      "metadata": {
        "id": "MWt2nGN2Lt5h"
      }
    },
    {
      "cell_type": "code",
      "source": [
        "df_out, dct_out = GRLS_parser(['Онасемноген абепарвовек', 'Нусинерсен', 'Рисдиплам', 'Бранаплам', 'Релдесемтив'], table_name = 'SMN_GRLS.tsv')"
      ],
      "metadata": {
        "id": "tzn81_SpFL7V"
      },
      "execution_count": null,
      "outputs": []
    },
    {
      "cell_type": "code",
      "source": [
        "df_out"
      ],
      "metadata": {
        "id": "WKgB10ytG7n0",
        "colab": {
          "base_uri": "https://localhost:8080/",
          "height": 528
        },
        "outputId": "26ab8d22-4a18-4449-9953-40cf73feeac4"
      },
      "execution_count": null,
      "outputs": [
        {
          "output_type": "execute_result",
          "data": {
            "text/plain": [
              "             Текст запроса № п/п           Торговое наименование  \\\n",
              "0  Онасемноген абепарвовек     1                      Золгенсма®   \n",
              "1               Нусинерсен     1                        Спинраза   \n",
              "2                Рисдиплам     1                        ЭВРИСДИ®   \n",
              "3                Бранаплам    -1  Не найдено ни одного препарата   \n",
              "4              Релдесемтив    -1  Не найдено ни одного препарата   \n",
              "\n",
              "  Международное непатентованное наименование или группировочное (химическое) наименование  \\\n",
              "0                            Онасемноген абепарвовек                                        \n",
              "1                                         Нусинерсен                                        \n",
              "2                                          Рисдиплам                                        \n",
              "3                                                  -                                        \n",
              "4                                                  -                                        \n",
              "\n",
              "                                       Форма выпуска  \\\n",
              "0                               раствор для инфузий;   \n",
              "1              раствор для интратекального введения;   \n",
              "2  порошок для приготовления раствора для приема ...   \n",
              "3                                                  -   \n",
              "4                                                  -   \n",
              "\n",
              "  Наименование держателя или владельца регистрационного удостоверения лекарственного препарата  \\\n",
              "0                                  Новартис Фарма АГ                                             \n",
              "1                             Биоген Нидерландз Б.В.                                             \n",
              "2                            Ф. Хоффманн-Ля Рош Лтд.                                             \n",
              "3                                                  -                                             \n",
              "4                                                  -                                             \n",
              "\n",
              "  Страна держателя или владельца регистрационного удостоверения лекарственного препарата  \\\n",
              "0                                          Швейцария                                       \n",
              "1                                         Нидерланды                                       \n",
              "2                                          Швейцария                                       \n",
              "3                                                  -                                       \n",
              "4                                                  -                                       \n",
              "\n",
              "  Регистрационный номер Дата государственной регистрации  \\\n",
              "0  ЛП-№(001462)-(РГ-RU)                       28.11.2022   \n",
              "1             ЛП-005730                       16.08.2019   \n",
              "2             ЛП-006602                       26.11.2020   \n",
              "3                     -                                -   \n",
              "4                     -                                -   \n",
              "\n",
              "  Дата окончания действ. рег. уд. Дата переоформления РУ Состояние  \\\n",
              "0                      28.11.2027                                Д   \n",
              "1                      16.08.2024             10.01.2023         Д   \n",
              "2                      26.11.2025             15.08.2022         Д   \n",
              "3                               -                      -         -   \n",
              "4                               -                      -         -   \n",
              "\n",
              "  Дата решения  Действующих веществ  \n",
              "0   28.11.2022                    1  \n",
              "1   10.01.2023                    1  \n",
              "2   12.01.2023                    1  \n",
              "3            -                   -1  \n",
              "4            -                   -1  "
            ],
            "text/html": [
              "\n",
              "  <div id=\"df-6f5d3b5c-354c-4bd9-ab6a-ef6ba93ddd34\">\n",
              "    <div class=\"colab-df-container\">\n",
              "      <div>\n",
              "<style scoped>\n",
              "    .dataframe tbody tr th:only-of-type {\n",
              "        vertical-align: middle;\n",
              "    }\n",
              "\n",
              "    .dataframe tbody tr th {\n",
              "        vertical-align: top;\n",
              "    }\n",
              "\n",
              "    .dataframe thead th {\n",
              "        text-align: right;\n",
              "    }\n",
              "</style>\n",
              "<table border=\"1\" class=\"dataframe\">\n",
              "  <thead>\n",
              "    <tr style=\"text-align: right;\">\n",
              "      <th></th>\n",
              "      <th>Текст запроса</th>\n",
              "      <th>№ п/п</th>\n",
              "      <th>Торговое наименование</th>\n",
              "      <th>Международное непатентованное наименование или группировочное (химическое) наименование</th>\n",
              "      <th>Форма выпуска</th>\n",
              "      <th>Наименование держателя или владельца регистрационного удостоверения лекарственного препарата</th>\n",
              "      <th>Страна держателя или владельца регистрационного удостоверения лекарственного препарата</th>\n",
              "      <th>Регистрационный номер</th>\n",
              "      <th>Дата государственной регистрации</th>\n",
              "      <th>Дата окончания действ. рег. уд.</th>\n",
              "      <th>Дата переоформления РУ</th>\n",
              "      <th>Состояние</th>\n",
              "      <th>Дата решения</th>\n",
              "      <th>Действующих веществ</th>\n",
              "    </tr>\n",
              "  </thead>\n",
              "  <tbody>\n",
              "    <tr>\n",
              "      <th>0</th>\n",
              "      <td>Онасемноген абепарвовек</td>\n",
              "      <td>1</td>\n",
              "      <td>Золгенсма®</td>\n",
              "      <td>Онасемноген абепарвовек</td>\n",
              "      <td>раствор для инфузий;</td>\n",
              "      <td>Новартис Фарма АГ</td>\n",
              "      <td>Швейцария</td>\n",
              "      <td>ЛП-№(001462)-(РГ-RU)</td>\n",
              "      <td>28.11.2022</td>\n",
              "      <td>28.11.2027</td>\n",
              "      <td></td>\n",
              "      <td>Д</td>\n",
              "      <td>28.11.2022</td>\n",
              "      <td>1</td>\n",
              "    </tr>\n",
              "    <tr>\n",
              "      <th>1</th>\n",
              "      <td>Нусинерсен</td>\n",
              "      <td>1</td>\n",
              "      <td>Спинраза</td>\n",
              "      <td>Нусинерсен</td>\n",
              "      <td>раствор для интратекального введения;</td>\n",
              "      <td>Биоген Нидерландз Б.В.</td>\n",
              "      <td>Нидерланды</td>\n",
              "      <td>ЛП-005730</td>\n",
              "      <td>16.08.2019</td>\n",
              "      <td>16.08.2024</td>\n",
              "      <td>10.01.2023</td>\n",
              "      <td>Д</td>\n",
              "      <td>10.01.2023</td>\n",
              "      <td>1</td>\n",
              "    </tr>\n",
              "    <tr>\n",
              "      <th>2</th>\n",
              "      <td>Рисдиплам</td>\n",
              "      <td>1</td>\n",
              "      <td>ЭВРИСДИ®</td>\n",
              "      <td>Рисдиплам</td>\n",
              "      <td>порошок для приготовления раствора для приема ...</td>\n",
              "      <td>Ф. Хоффманн-Ля Рош Лтд.</td>\n",
              "      <td>Швейцария</td>\n",
              "      <td>ЛП-006602</td>\n",
              "      <td>26.11.2020</td>\n",
              "      <td>26.11.2025</td>\n",
              "      <td>15.08.2022</td>\n",
              "      <td>Д</td>\n",
              "      <td>12.01.2023</td>\n",
              "      <td>1</td>\n",
              "    </tr>\n",
              "    <tr>\n",
              "      <th>3</th>\n",
              "      <td>Бранаплам</td>\n",
              "      <td>-1</td>\n",
              "      <td>Не найдено ни одного препарата</td>\n",
              "      <td>-</td>\n",
              "      <td>-</td>\n",
              "      <td>-</td>\n",
              "      <td>-</td>\n",
              "      <td>-</td>\n",
              "      <td>-</td>\n",
              "      <td>-</td>\n",
              "      <td>-</td>\n",
              "      <td>-</td>\n",
              "      <td>-</td>\n",
              "      <td>-1</td>\n",
              "    </tr>\n",
              "    <tr>\n",
              "      <th>4</th>\n",
              "      <td>Релдесемтив</td>\n",
              "      <td>-1</td>\n",
              "      <td>Не найдено ни одного препарата</td>\n",
              "      <td>-</td>\n",
              "      <td>-</td>\n",
              "      <td>-</td>\n",
              "      <td>-</td>\n",
              "      <td>-</td>\n",
              "      <td>-</td>\n",
              "      <td>-</td>\n",
              "      <td>-</td>\n",
              "      <td>-</td>\n",
              "      <td>-</td>\n",
              "      <td>-1</td>\n",
              "    </tr>\n",
              "  </tbody>\n",
              "</table>\n",
              "</div>\n",
              "      <button class=\"colab-df-convert\" onclick=\"convertToInteractive('df-6f5d3b5c-354c-4bd9-ab6a-ef6ba93ddd34')\"\n",
              "              title=\"Convert this dataframe to an interactive table.\"\n",
              "              style=\"display:none;\">\n",
              "        \n",
              "  <svg xmlns=\"http://www.w3.org/2000/svg\" height=\"24px\"viewBox=\"0 0 24 24\"\n",
              "       width=\"24px\">\n",
              "    <path d=\"M0 0h24v24H0V0z\" fill=\"none\"/>\n",
              "    <path d=\"M18.56 5.44l.94 2.06.94-2.06 2.06-.94-2.06-.94-.94-2.06-.94 2.06-2.06.94zm-11 1L8.5 8.5l.94-2.06 2.06-.94-2.06-.94L8.5 2.5l-.94 2.06-2.06.94zm10 10l.94 2.06.94-2.06 2.06-.94-2.06-.94-.94-2.06-.94 2.06-2.06.94z\"/><path d=\"M17.41 7.96l-1.37-1.37c-.4-.4-.92-.59-1.43-.59-.52 0-1.04.2-1.43.59L10.3 9.45l-7.72 7.72c-.78.78-.78 2.05 0 2.83L4 21.41c.39.39.9.59 1.41.59.51 0 1.02-.2 1.41-.59l7.78-7.78 2.81-2.81c.8-.78.8-2.07 0-2.86zM5.41 20L4 18.59l7.72-7.72 1.47 1.35L5.41 20z\"/>\n",
              "  </svg>\n",
              "      </button>\n",
              "      \n",
              "  <style>\n",
              "    .colab-df-container {\n",
              "      display:flex;\n",
              "      flex-wrap:wrap;\n",
              "      gap: 12px;\n",
              "    }\n",
              "\n",
              "    .colab-df-convert {\n",
              "      background-color: #E8F0FE;\n",
              "      border: none;\n",
              "      border-radius: 50%;\n",
              "      cursor: pointer;\n",
              "      display: none;\n",
              "      fill: #1967D2;\n",
              "      height: 32px;\n",
              "      padding: 0 0 0 0;\n",
              "      width: 32px;\n",
              "    }\n",
              "\n",
              "    .colab-df-convert:hover {\n",
              "      background-color: #E2EBFA;\n",
              "      box-shadow: 0px 1px 2px rgba(60, 64, 67, 0.3), 0px 1px 3px 1px rgba(60, 64, 67, 0.15);\n",
              "      fill: #174EA6;\n",
              "    }\n",
              "\n",
              "    [theme=dark] .colab-df-convert {\n",
              "      background-color: #3B4455;\n",
              "      fill: #D2E3FC;\n",
              "    }\n",
              "\n",
              "    [theme=dark] .colab-df-convert:hover {\n",
              "      background-color: #434B5C;\n",
              "      box-shadow: 0px 1px 3px 1px rgba(0, 0, 0, 0.15);\n",
              "      filter: drop-shadow(0px 1px 2px rgba(0, 0, 0, 0.3));\n",
              "      fill: #FFFFFF;\n",
              "    }\n",
              "  </style>\n",
              "\n",
              "      <script>\n",
              "        const buttonEl =\n",
              "          document.querySelector('#df-6f5d3b5c-354c-4bd9-ab6a-ef6ba93ddd34 button.colab-df-convert');\n",
              "        buttonEl.style.display =\n",
              "          google.colab.kernel.accessAllowed ? 'block' : 'none';\n",
              "\n",
              "        async function convertToInteractive(key) {\n",
              "          const element = document.querySelector('#df-6f5d3b5c-354c-4bd9-ab6a-ef6ba93ddd34');\n",
              "          const dataTable =\n",
              "            await google.colab.kernel.invokeFunction('convertToInteractive',\n",
              "                                                     [key], {});\n",
              "          if (!dataTable) return;\n",
              "\n",
              "          const docLinkHtml = 'Like what you see? Visit the ' +\n",
              "            '<a target=\"_blank\" href=https://colab.research.google.com/notebooks/data_table.ipynb>data table notebook</a>'\n",
              "            + ' to learn more about interactive tables.';\n",
              "          element.innerHTML = '';\n",
              "          dataTable['output_type'] = 'display_data';\n",
              "          await google.colab.output.renderOutput(dataTable, element);\n",
              "          const docLink = document.createElement('div');\n",
              "          docLink.innerHTML = docLinkHtml;\n",
              "          element.appendChild(docLink);\n",
              "        }\n",
              "      </script>\n",
              "    </div>\n",
              "  </div>\n",
              "  "
            ]
          },
          "metadata": {},
          "execution_count": 33
        }
      ]
    },
    {
      "cell_type": "code",
      "source": [
        "dct_out"
      ],
      "metadata": {
        "id": "KtgFZe7sITgf"
      },
      "execution_count": null,
      "outputs": []
    },
    {
      "cell_type": "code",
      "source": [
        "cat_list = {#'Нуклеозидные ингибиторы обратной транскриптазы (НИОТ/NRTI)':#взято с http://rushiv.ru/drugs-table/ данные 2017 года, возможно появились новые действующие вещества\n",
        "            #['Зидовудин',\n",
        "             #'Диданозин',\n",
        "             #'Ставудин',\n",
        "             #'Ламивудин',\n",
        "             #'Абакавир',\n",
        "             #'Тенофовир',\n",
        "             #'Эмтрицитабин',\n",
        "             #'Фосфазид',\n",
        "             #'Тенофовира алафенамид'],\n",
        "            'Нуклеозидные ингибиторы обратной транскриптазы (НИОТ/NRTI). Комбинированные препараты.':\n",
        "            ['Зидовудин+Ламивудин',\n",
        "             'Абакавир+Ламивудин+Зидовудин',\n",
        "             'Абакавир+Ламивудин',\n",
        "             'Эмтрицитабин+Тенофовир',\n",
        "             'Ламивудин+Фосфазид']#,\n",
        "            #'Ненуклеозидные ингибиторы обратной транскриптазы (ННИОТ/NNRTI)':\n",
        "            #['Эфавиренз',\n",
        "             #'Невирапин',\n",
        "             #'Этравирин',\n",
        "             #'Рилпивирин',\n",
        "             #'Доравирин',\n",
        "             #'Элсульфавирин'],\n",
        "            #'ННИОТ/NNRTI + НИОТ/NRTI. Комбинированные препараты.':\n",
        "            #['Тенофовир+Эмтрицитабин+Эфавиренз',\n",
        "             #'Рилпивирин+Тенофовир+Эмтрицитабин',\n",
        "             #'Доравирин+Ламивудин+Тенофовир'],\n",
        "            #'Ингибиторы протеазы (ИП/PIs)':\n",
        "            #['Саквинавир',\n",
        "             #'Ритонавир',\n",
        "             #'Атазанавир',\n",
        "             #'Фосампренавир',\n",
        "             #'Типранавир',\n",
        "             #'Дарунавир'],\n",
        "            #'Ингибиторы протеазы (ИП/PIs). Комбинированные препараты.':\n",
        "            #['Лопинавир+Ритонавир'],\n",
        "            #'Ингибиторы интегразы (ИИ/II)':\n",
        "            #['Ралтегравир',\n",
        "             #'Долутегравир'],\n",
        "            #'ИИ/II + НИОТ/NRTI. Комбинированные препараты':\n",
        "            #['Кобицистат+Тенофовира алафенамид+Элвитегравир+Эмтрицитабин'],\n",
        "            #'Ингибиторы слияния (фузии) (ИC/FIs)':\n",
        "            #['Энфувиртид'],\n",
        "            #'Ингибиторы (блокаторы) рецепторов':\n",
        "            #['Маравирок']\n",
        "            }"
      ],
      "metadata": {
        "id": "OcMEVzZ9tSCY"
      },
      "execution_count": null,
      "outputs": []
    },
    {
      "cell_type": "code",
      "source": [
        "colnames = ['Группа', 'Текст запроса', '№ п/п', 'Торговое наименование', 'Международное непатентованное наименование или группировочное (химическое) наименование', 'Форма выпуска', 'Наименование держателя или владельца регистрационного удостоверения лекарственного препарата', 'Страна держателя или владельца регистрационного удостоверения лекарственного препарата', 'Регистрационный номер', 'Дата государственной регистрации', 'Дата окончания действ. рег. уд.', 'Дата переоформления РУ', 'Состояние', 'Дата решения']\n",
        "df_HIV = pd.DataFrame(columns = colnames)\n",
        "dct_HIV = {}"
      ],
      "metadata": {
        "id": "DGi1wgqQ5OGF"
      },
      "execution_count": null,
      "outputs": []
    },
    {
      "cell_type": "code",
      "source": [
        "for group in cat_list.keys():#скрипту нужно около 5 минут, чтобы пробежаться по всему вичовому словарю\n",
        "  df_out, dct_out = GRLS_parser(cat_list[group], table_create = False)\n",
        "  df_out['Группа'] = group\n",
        "  dct_HIV[group] = dct_out\n",
        "  df_HIV = df_HIV.append(df_out)\n",
        "\n",
        "df_HIV.to_csv('HIV_GRLS2.tsv', sep = '\\t', index = False)"
      ],
      "metadata": {
        "id": "xjniZBtX7V6i"
      },
      "execution_count": null,
      "outputs": []
    },
    {
      "cell_type": "code",
      "source": [
        "df_HIV"
      ],
      "metadata": {
        "id": "LZAmPCFA8_z6"
      },
      "execution_count": null,
      "outputs": []
    },
    {
      "cell_type": "code",
      "source": [
        "#dct_HIV"
      ],
      "metadata": {
        "id": "e6q-XSp99BwJ"
      },
      "execution_count": null,
      "outputs": []
    },
    {
      "cell_type": "code",
      "source": [],
      "metadata": {
        "id": "noXpnBMxjHbl"
      },
      "execution_count": null,
      "outputs": []
    }
  ]
}