{
  "nbformat": 4,
  "nbformat_minor": 0,
  "metadata": {
    "colab": {
      "provenance": [],
      "authorship_tag": "ABX9TyOjc7fRiJn5YYO0Av4HzHnt",
      "include_colab_link": true
    },
    "kernelspec": {
      "name": "python3",
      "display_name": "Python 3"
    },
    "language_info": {
      "name": "python"
    }
  },
  "cells": [
    {
      "cell_type": "markdown",
      "metadata": {
        "id": "view-in-github",
        "colab_type": "text"
      },
      "source": [
        "<a href=\"https://colab.research.google.com/github/wwoskie/GRLS_parser/blob/main/GRLS_BS_parser_HIV.ipynb\" target=\"_parent\"><img src=\"https://colab.research.google.com/assets/colab-badge.svg\" alt=\"Open In Colab\"/></a>"
      ]
    },
    {
      "cell_type": "code",
      "execution_count": null,
      "metadata": {
        "id": "DOURfYJb_ymh"
      },
      "outputs": [],
      "source": [
        "import requests\n",
        "import pandas as pd\n",
        "from bs4 import BeautifulSoup\n",
        "from urllib.parse import quote"
      ]
    },
    {
      "cell_type": "code",
      "source": [
        "def url_maker(drug_name, page_number = 1):\n",
        "  url = 'https://grls.rosminzdrav.ru/GRLS.aspx?RegNumber=&MnnR=' + quote(drug_name) + '&lf=&TradeNmR=&OwnerName=&MnfOrg=&MnfOrgCountry=&isfs=0&isND=-1&regtype=&pageSize=10&order=RegDate&orderType=desc&pageNum=' + str(page_number)\n",
        "  return url"
      ],
      "metadata": {
        "id": "MDmFpic6_2X6"
      },
      "execution_count": null,
      "outputs": []
    },
    {
      "cell_type": "code",
      "source": [
        "def soup_checker(r):\n",
        "  soup_check = BeautifulSoup(r.content, 'html5lib')\n",
        "  table_check = soup_check.find('tr', attrs = {'class':'hdr_flat'})\n",
        "  return ('Данные не найдены' in str(table_check))"
      ],
      "metadata": {
        "id": "CPxWTc3_CxS9"
      },
      "execution_count": null,
      "outputs": []
    },
    {
      "cell_type": "code",
      "source": [
        "def comp_counter(comp):\n",
        "  if comp == '-':\n",
        "    out = -1\n",
        "  else:\n",
        "    out = len(comp.split('+'))\n",
        "  return out"
      ],
      "metadata": {
        "id": "3foH7poP3jAK"
      },
      "execution_count": null,
      "outputs": []
    },
    {
      "cell_type": "code",
      "source": [
        "def GRLS_parser(drug_list, table_name = 'GRLS_table.tsv', table_create = True, dct_ret = True):\n",
        "  colnames = ['Текст запроса', '№ п/п', 'Торговое наименование', 'Международное непатентованное наименование или группировочное (химическое) наименование', 'Форма выпуска', 'Наименование держателя или владельца регистрационного удостоверения лекарственного препарата', 'Страна держателя или владельца регистрационного удостоверения лекарственного препарата', 'Регистрационный номер', 'Дата государственной регистрации', 'Дата окончания действ. рег. уд.', 'Дата переоформления РУ', 'Состояние', 'Дата решения']\n",
        "\n",
        "  dct_out = {}\n",
        "\n",
        "  for drug in drug_list:\n",
        "    dct_out[drug] = {}\n",
        "    url = url_maker(drug, page_number = 1)\n",
        "    r = requests.get(url)\n",
        "    soup_check = soup_checker(r)\n",
        "    if not soup_check:\n",
        "      i = 1\n",
        "\n",
        "      while not soup_checker(r):\n",
        "        url = url_maker(drug, page_number = i)\n",
        "        r = requests.get(url)\n",
        "        if soup_checker(r):\n",
        "          continue\n",
        "        soup = BeautifulSoup(r.content, 'html5lib')\n",
        "        table = soup.find('table', attrs = {'class':'ts1 qa-result-table'})\n",
        "\n",
        "        for line in table.findAll('td'):\n",
        "          line = str(line)\n",
        "          row = line.split('>')[1].split('<')[0].strip()\n",
        "          if line.startswith('<td align=\"center\" width=\"1\">'):\n",
        "            key = row\n",
        "            dct_out[drug][key] = [drug, row]\n",
        "          else:\n",
        "            dct_out[drug][key].append(row)\n",
        "\n",
        "        i += 1\n",
        "\n",
        "    else:\n",
        "      dct_out[drug]['-1'] = [drug, '-1', 'Не найдено ни одного препарата'] + ['-']*10\n",
        "\n",
        "  df = pd.DataFrame(columns = colnames)\n",
        "  for drug in dct_out.keys():\n",
        "    for key in dct_out[drug].keys():\n",
        "      df = df.append(pd.Series(dct_out[drug][key], index = colnames), ignore_index = True)\n",
        "\n",
        "  df['Действующих веществ'] = df['Международное непатентованное наименование или группировочное (химическое) наименование'].map(comp_counter)\n",
        "\n",
        "  if table_create:\n",
        "    df.to_csv(table_name, sep = '\\t', index = False)\n",
        "\n",
        "  if dct_ret:\n",
        "    return (df, dct_out)\n",
        "  else:\n",
        "    return df"
      ],
      "metadata": {
        "id": "zcoBZOUpEQQG"
      },
      "execution_count": null,
      "outputs": []
    },
    {
      "cell_type": "markdown",
      "source": [
        "Пример работы на лекарствах от СМА:\n",
        "для бранаплама и релдесемтива ожидаемо ничего не найдено, т.к. они еще слишком экспериментальные\n"
      ],
      "metadata": {
        "id": "MWt2nGN2Lt5h"
      }
    },
    {
      "cell_type": "code",
      "source": [
        "df_out, dct_out = GRLS_parser(['Онасемноген абепарвовек', 'Нусинерсен', 'Рисдиплам', 'Бранаплам', 'Релдесемтив'], table_name = 'SMN_GRLS.tsv')"
      ],
      "metadata": {
        "id": "tzn81_SpFL7V"
      },
      "execution_count": null,
      "outputs": []
    },
    {
      "cell_type": "code",
      "source": [
        "df_out"
      ],
      "metadata": {
        "id": "WKgB10ytG7n0"
      },
      "execution_count": null,
      "outputs": []
    },
    {
      "cell_type": "code",
      "source": [
        "dct_out"
      ],
      "metadata": {
        "id": "KtgFZe7sITgf"
      },
      "execution_count": null,
      "outputs": []
    },
    {
      "cell_type": "code",
      "source": [
        "cat_list = {#'Нуклеозидные ингибиторы обратной транскриптазы (НИОТ/NRTI)':#взято с http://rushiv.ru/drugs-table/ данные 2017 года, возможно появились новые действующие вещества\n",
        "            #['Зидовудин',\n",
        "             #'Диданозин',\n",
        "             #'Ставудин',\n",
        "             #'Ламивудин',\n",
        "             #'Абакавир',\n",
        "             #'Тенофовир',\n",
        "             #'Эмтрицитабин',\n",
        "             #'Фосфазид',\n",
        "             #'Тенофовира алафенамид'],\n",
        "            'Нуклеозидные ингибиторы обратной транскриптазы (НИОТ/NRTI). Комбинированные препараты.':\n",
        "            ['Зидовудин+Ламивудин',\n",
        "             'Абакавир+Ламивудин+Зидовудин',\n",
        "             'Абакавир+Ламивудин',\n",
        "             'Эмтрицитабин+Тенофовир',\n",
        "             'Ламивудин+Фосфазид']#,\n",
        "            #'Ненуклеозидные ингибиторы обратной транскриптазы (ННИОТ/NNRTI)':\n",
        "            #['Эфавиренз',\n",
        "             #'Невирапин',\n",
        "             #'Этравирин',\n",
        "             #'Рилпивирин',\n",
        "             #'Доравирин',\n",
        "             #'Элсульфавирин'],\n",
        "            #'ННИОТ/NNRTI + НИОТ/NRTI. Комбинированные препараты.':\n",
        "            #['Тенофовир+Эмтрицитабин+Эфавиренз',\n",
        "             #'Рилпивирин+Тенофовир+Эмтрицитабин',\n",
        "             #'Доравирин+Ламивудин+Тенофовир'],\n",
        "            #'Ингибиторы протеазы (ИП/PIs)':\n",
        "            #['Саквинавир',\n",
        "             #'Ритонавир',\n",
        "             #'Атазанавир',\n",
        "             #'Фосампренавир',\n",
        "             #'Типранавир',\n",
        "             #'Дарунавир'],\n",
        "            #'Ингибиторы протеазы (ИП/PIs). Комбинированные препараты.':\n",
        "            #['Лопинавир+Ритонавир'],\n",
        "            #'Ингибиторы интегразы (ИИ/II)':\n",
        "            #['Ралтегравир',\n",
        "             #'Долутегравир'],\n",
        "            #'ИИ/II + НИОТ/NRTI. Комбинированные препараты':\n",
        "            #['Кобицистат+Тенофовира алафенамид+Элвитегравир+Эмтрицитабин'],\n",
        "            #'Ингибиторы слияния (фузии) (ИC/FIs)':\n",
        "            #['Энфувиртид'],\n",
        "            #'Ингибиторы (блокаторы) рецепторов':\n",
        "            #['Маравирок']\n",
        "            }"
      ],
      "metadata": {
        "id": "OcMEVzZ9tSCY"
      },
      "execution_count": null,
      "outputs": []
    },
    {
      "cell_type": "code",
      "source": [
        "colnames = ['Группа', 'Текст запроса', '№ п/п', 'Торговое наименование', 'Международное непатентованное наименование или группировочное (химическое) наименование', 'Форма выпуска', 'Наименование держателя или владельца регистрационного удостоверения лекарственного препарата', 'Страна держателя или владельца регистрационного удостоверения лекарственного препарата', 'Регистрационный номер', 'Дата государственной регистрации', 'Дата окончания действ. рег. уд.', 'Дата переоформления РУ', 'Состояние', 'Дата решения']\n",
        "df_HIV = pd.DataFrame(columns = colnames)\n",
        "dct_HIV = {}"
      ],
      "metadata": {
        "id": "DGi1wgqQ5OGF"
      },
      "execution_count": null,
      "outputs": []
    },
    {
      "cell_type": "code",
      "source": [
        "for group in cat_list.keys():#скрипту нужно около 5 минут, чтобы пробежаться по всему вичовому словарю\n",
        "  df_out, dct_out = GRLS_parser(cat_list[group], table_create = False)\n",
        "  df_out['Группа'] = group\n",
        "  dct_HIV[group] = dct_out\n",
        "  df_HIV = df_HIV.append(df_out)\n",
        "\n",
        "df_HIV.to_csv('HIV_GRLS2.tsv', sep = '\\t', index = False)"
      ],
      "metadata": {
        "id": "xjniZBtX7V6i"
      },
      "execution_count": null,
      "outputs": []
    },
    {
      "cell_type": "code",
      "source": [
        "df_HIV"
      ],
      "metadata": {
        "id": "LZAmPCFA8_z6"
      },
      "execution_count": null,
      "outputs": []
    },
    {
      "cell_type": "code",
      "source": [
        "#dct_HIV"
      ],
      "metadata": {
        "id": "e6q-XSp99BwJ"
      },
      "execution_count": 1,
      "outputs": []
    },
    {
      "cell_type": "code",
      "source": [],
      "metadata": {
        "id": "noXpnBMxjHbl"
      },
      "execution_count": null,
      "outputs": []
    }
  ]
}